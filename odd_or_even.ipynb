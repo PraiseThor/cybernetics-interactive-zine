{
 "cells": [
  {
   "cell_type": "code",
   "execution_count": 1,
   "metadata": {
    "scrolled": true
   },
   "outputs": [
    {
     "name": "stdout",
     "output_type": "stream",
     "text": [
      "I'm thinking of a number between 1 and 100. Guess whether my number is odd or even by typing 'odd' or 'even': \n",
      "odd\n"
     ]
    }
   ],
   "source": [
    "import random, math\n",
    "num=random.randint(1,100)\n",
    "print(\"I'm thinking of a number between 1 and 100. Guess whether my number is odd or even by typing 'odd' or 'even': \")\n",
    "guess=input()\n",
    "def odd_or_even(num_input):\n",
    "    if math.remainder(num,2)==0:\n",
    "        return \"even\"\n",
    "    elif math.remainder(num,2)!=0:\n",
    "        return \"odd\""
   ]
  },
  {
   "cell_type": "code",
   "execution_count": 2,
   "metadata": {},
   "outputs": [
    {
     "name": "stdout",
     "output_type": "stream",
     "text": [
      "Correct! My number is 67 and it is odd\n"
     ]
    }
   ],
   "source": [
    "if odd_or_even(num) == guess.lower():\n",
    "    print(\"Correct! My number is \"+str(num)+\" and it is \"+odd_or_even(num))\n",
    "elif odd_or_even(num) != guess.lower():\n",
    "    print(\"Incorrect! My number is \"+str(num)+\" and it is \"+odd_or_even(num))"
   ]
  }
 ],
 "metadata": {
  "kernelspec": {
   "display_name": "Python 3",
   "language": "python",
   "name": "python3"
  },
  "language_info": {
   "codemirror_mode": {
    "name": "ipython",
    "version": 3
   },
   "file_extension": ".py",
   "mimetype": "text/x-python",
   "name": "python",
   "nbconvert_exporter": "python",
   "pygments_lexer": "ipython3",
   "version": "3.8.5"
  }
 },
 "nbformat": 4,
 "nbformat_minor": 2
}
